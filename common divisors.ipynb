{
 "cells": [
  {
   "cell_type": "code",
   "execution_count": 30,
   "metadata": {},
   "outputs": [
    {
     "name": "stdout",
     "output_type": "stream",
     "text": [
      "4\n",
      "4\n"
     ]
    }
   ],
   "source": [
    "def count(S, m, n): \n",
    "    # We need n+1 rows as the table is constructed  \n",
    "    # in bottom up manner using the base case 0 value \n",
    "    # case (n = 0) \n",
    "    table = [[0 for x in range(m)] for x in range(n+1)] \n",
    "  \n",
    "    # Fill the entries for 0 value case (n = 0) \n",
    "    for i in range(m): \n",
    "        table[0][i] = 1\n",
    "  \n",
    "    # Fill rest of the table entries in bottom up manner \n",
    "    for i in range(1, n+1): \n",
    "        for j in range(m): \n",
    "  \n",
    "            # Count of solutions including S[j] \n",
    "            x = table[i - S[j]][j] if i-S[j] >= 0 else 0\n",
    "  \n",
    "            # Count of solutions excluding S[j] \n",
    "            y = table[i][j-1] if j >= 1 else 0\n",
    "  \n",
    "            # total count \n",
    "            table[i][j] = x + y \n",
    "  \n",
    "    return table[n][m-1] \n",
    "  \n",
    "# Driver program to test above function \n",
    "arr = [1, 2, 3] \n",
    "m = len(arr) \n",
    "n = 4\n",
    "print(count(arr, m, n)) \n",
    "  \n",
    "# This code is contributed by Bhavya Jain \n",
    "\n",
    "# Dynamic Programming Python implementation of Coin  \n",
    "# Change problem \n",
    "def count(S, m, n): \n",
    "  \n",
    "    # table[i] will be storing the number of solutions for \n",
    "    # value i. We need n+1 rows as the table is constructed \n",
    "    # in bottom up manner using the base case (n = 0) \n",
    "    # Initialize all table values as 0 \n",
    "    table = [0 for k in range(n+1)] \n",
    "  \n",
    "    # Base case (If given value is 0) \n",
    "    table[0] = 1\n",
    "  \n",
    "    # Pick all coins one by one and update the table[] values \n",
    "    # after the index greater than or equal to the value of the \n",
    "    # picked coin \n",
    "    for i in range(0,m): \n",
    "        for j in range(S[i],n+1): \n",
    "            table[j] += table[j-S[i]] \n",
    "  \n",
    "    return table[n] \n",
    "  \n",
    "# Driver program to test above function \n",
    "arr = [1, 2, 3] \n",
    "m = len(arr) \n",
    "n = 4\n",
    "x = count(arr, m, n) \n",
    "print (x) "
   ]
  }
 ],
 "metadata": {
  "kernelspec": {
   "display_name": "Python 3",
   "language": "python",
   "name": "python3"
  },
  "language_info": {
   "codemirror_mode": {
    "name": "ipython",
    "version": 3
   },
   "file_extension": ".py",
   "mimetype": "text/x-python",
   "name": "python",
   "nbconvert_exporter": "python",
   "pygments_lexer": "ipython3",
   "version": "3.6.4"
  }
 },
 "nbformat": 4,
 "nbformat_minor": 2
}
