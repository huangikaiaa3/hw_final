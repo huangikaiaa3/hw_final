{
 "cells": [
  {
   "cell_type": "code",
   "execution_count": 35,
   "metadata": {},
   "outputs": [
    {
     "name": "stdout",
     "output_type": "stream",
     "text": [
      "Enter your floating point value : \n",
      "1.234\n",
      "Enter the number of decimal places of the result : \n",
      "4\n",
      "1.0011\n"
     ]
    }
   ],
   "source": [
    "def float_bin(number, places = 3): \n",
    "\n",
    "    whole, dec = str(number).split(\".\") \n",
    "    whole = int(whole) \n",
    "    dec = int (dec) \n",
    "  \n",
    "    res = bin(whole).lstrip(\"0b\") + \".\"\n",
    "\n",
    "    for x in range(places): \n",
    "\n",
    "        whole, dec = str((decimal_converter(dec)) * 2).split(\".\") \n",
    "        dec = int(dec) \n",
    "        res += whole \n",
    "    return res \n",
    "\n",
    "def decimal_converter(num):  \n",
    "    while num > 1: \n",
    "        num /= 10\n",
    "    return num \n",
    "\n",
    "n = input(\"Enter your floating point value : \\n\") \n",
    "p = int(input(\"Enter the number of decimal places of the result : \\n\")) \n",
    "  \n",
    "print(float_bin(n, places = p)) "
   ]
  }
 ],
 "metadata": {
  "kernelspec": {
   "display_name": "Python 3",
   "language": "python",
   "name": "python3"
  },
  "language_info": {
   "codemirror_mode": {
    "name": "ipython",
    "version": 3
   },
   "file_extension": ".py",
   "mimetype": "text/x-python",
   "name": "python",
   "nbconvert_exporter": "python",
   "pygments_lexer": "ipython3",
   "version": "3.6.4"
  }
 },
 "nbformat": 4,
 "nbformat_minor": 2
}
