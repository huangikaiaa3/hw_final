{
 "cells": [
  {
   "cell_type": "code",
   "execution_count": 38,
   "metadata": {},
   "outputs": [
    {
     "name": "stdout",
     "output_type": "stream",
     "text": [
      "5\n",
      "6\n",
      "11\n",
      "12\n",
      "13\n"
     ]
    }
   ],
   "source": [
    "def insertionSortRecursive(arr,n):\n",
    "    if n<=1:\n",
    "        return\n",
    "\n",
    "    insertionSortRecursive(arr,n-1)\n",
    "\n",
    "    last = arr[n-1]\n",
    "    j = n-2\n",
    " \n",
    "    while (j>=0 and arr[j]>last):\n",
    "        arr[j+1] = arr[j]\n",
    "        j = j-1\n",
    " \n",
    "    arr[j+1]=last\n",
    "     \n",
    "def printArray(arr,n):\n",
    "    for i in range(n):\n",
    "        print(arr[i]),\n",
    "\n",
    "arr = [12,11,13,5,6]\n",
    "n = len(arr)\n",
    "insertionSortRecursive(arr, n)\n",
    "printArray(arr, n)"
   ]
  }
 ],
 "metadata": {
  "kernelspec": {
   "display_name": "Python 3",
   "language": "python",
   "name": "python3"
  },
  "language_info": {
   "codemirror_mode": {
    "name": "ipython",
    "version": 3
   },
   "file_extension": ".py",
   "mimetype": "text/x-python",
   "name": "python",
   "nbconvert_exporter": "python",
   "pygments_lexer": "ipython3",
   "version": "3.6.4"
  }
 },
 "nbformat": 4,
 "nbformat_minor": 2
}
